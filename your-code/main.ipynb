{
 "cells": [
  {
   "cell_type": "markdown",
   "metadata": {},
   "source": [
    "# Web Scraping Lab\n",
    "\n",
    "You will find in this notebook some scrapy exercises to practise your scraping skills.\n",
    "\n",
    "**Tips:**\n",
    "\n",
    "- Check the response status code for each request to ensure you have obtained the intended content.\n",
    "- Print the response text in each request to understand the kind of info you are getting and its format.\n",
    "- Check for patterns in the response text to extract the data/info requested in each question.\n",
    "- Visit the urls below and take a look at their source code through Chrome DevTools. You'll need to identify the html tags, special class names, etc used in the html content you are expected to extract.\n",
    "\n",
    "**Resources**:\n",
    "- [Requests library](http://docs.python-requests.org/en/master/#the-user-guide)\n",
    "- [Beautiful Soup Doc](https://www.crummy.com/software/BeautifulSoup/bs4/doc/)\n",
    "- [Urllib](https://docs.python.org/3/library/urllib.html#module-urllib)\n",
    "- [re lib](https://docs.python.org/3/library/re.html)\n",
    "- [lxml lib](https://lxml.de/)\n",
    "- [Scrapy](https://scrapy.org/)\n",
    "- [List of HTTP status codes](https://en.wikipedia.org/wiki/List_of_HTTP_status_codes)\n",
    "- [HTML basics](http://www.simplehtmlguide.com/cheatsheet.php)\n",
    "- [CSS basics](https://www.cssbasics.com/#page_start)"
   ]
  },
  {
   "cell_type": "markdown",
   "metadata": {},
   "source": [
    "#### Below are the libraries and modules you may need. `requests`,  `BeautifulSoup` and `pandas` are already imported for you. If you prefer to use additional libraries feel free to do it."
   ]
  },
  {
   "cell_type": "code",
   "execution_count": 1,
   "metadata": {},
   "outputs": [],
   "source": [
    "import requests\n",
    "from bs4 import BeautifulSoup\n",
    "import pandas as pd"
   ]
  },
  {
   "cell_type": "markdown",
   "metadata": {},
   "source": [
    "#### Download, parse (using BeautifulSoup), and print the content from the Trending Developers page from GitHub:"
   ]
  },
  {
   "cell_type": "code",
   "execution_count": 2,
   "metadata": {},
   "outputs": [],
   "source": [
    "# This is the url you will scrape in this exercise\n",
    "url = 'https://github.com/trending/developers'"
   ]
  },
  {
   "cell_type": "code",
   "execution_count": 3,
   "metadata": {},
   "outputs": [
    {
     "data": {
      "text/plain": [
       "200"
      ]
     },
     "execution_count": 3,
     "metadata": {},
     "output_type": "execute_result"
    }
   ],
   "source": [
    "response=requests.get(url=url)\n",
    "response.status_code"
   ]
  },
  {
   "cell_type": "code",
   "execution_count": 4,
   "metadata": {},
   "outputs": [
    {
     "data": {
      "text/plain": [
       "bs4.BeautifulSoup"
      ]
     },
     "execution_count": 4,
     "metadata": {},
     "output_type": "execute_result"
    }
   ],
   "source": [
    "soup=BeautifulSoup(response.content)\n",
    "type(soup)\n"
   ]
  },
  {
   "cell_type": "markdown",
   "metadata": {},
   "source": [
    "#### 1. Display the names of the trending developers retrieved in the previous step.\n",
    "\n",
    "Your output should be a Python list of developer names. Each name should not contain any html tag.\n",
    "\n",
    "**Instructions:**\n",
    "\n",
    "1. Find out the html tag and class names used for the developer names. You can achieve this using Chrome DevTools or clicking in 'Inspect' on any browser. Here is an example:\n",
    "\n",
    "![title](example_1.png)\n",
    "\n",
    "2. Use BeautifulSoup `find_all()` to extract all the html elements that contain the developer names. Hint: pass in the `attrs` parameter to specify the class.\n",
    "\n",
    "3. Loop through the elements found and get the text for each of them.\n",
    "\n",
    "4. While you are at it, use string manipulation techniques to replace whitespaces and linebreaks (i.e. `\\n`) in the *text* of each html element. Use a list to store the clean names. Hint: you may also use `.get_text()` instead of `.text` and pass in the desired parameters to do some string manipulation (check the documentation).\n",
    "\n",
    "5. Print the list of names.\n",
    "\n",
    "Your output should look like below:\n",
    "\n",
    "```\n",
    "['trimstray (@trimstray)',\n",
    " 'joewalnes (JoeWalnes)',\n",
    " 'charlax (Charles-AxelDein)',\n",
    " 'ForrestKnight (ForrestKnight)',\n",
    " 'revery-ui (revery-ui)',\n",
    " 'alibaba (Alibaba)',\n",
    " 'Microsoft (Microsoft)',\n",
    " 'github (GitHub)',\n",
    " 'facebook (Facebook)',\n",
    " 'boazsegev (Bo)',\n",
    " 'google (Google)',\n",
    " 'cloudfetch',\n",
    " 'sindresorhus (SindreSorhus)',\n",
    " 'tensorflow',\n",
    " 'apache (TheApacheSoftwareFoundation)',\n",
    " 'DevonCrawford (DevonCrawford)',\n",
    " 'ARMmbed (ArmMbed)',\n",
    " 'vuejs (vuejs)',\n",
    " 'fastai (fast.ai)',\n",
    " 'QiShaoXuan (Qi)',\n",
    " 'joelparkerhenderson (JoelParkerHenderson)',\n",
    " 'torvalds (LinusTorvalds)',\n",
    " 'CyC2018',\n",
    " 'komeiji-satori (神楽坂覚々)',\n",
    " 'script-8']\n",
    " ```"
   ]
  },
  {
   "cell_type": "code",
   "execution_count": 5,
   "metadata": {},
   "outputs": [
    {
     "data": {
      "text/plain": [
       "23"
      ]
     },
     "execution_count": 5,
     "metadata": {},
     "output_type": "execute_result"
    }
   ],
   "source": [
    "# <article> search for 'class':'Box-row d-flex'\n",
    "\n",
    "names = soup.find_all('a', attrs={'class':'Link--secondary', 'data-view-component':'true'})\n",
    "len(names)"
   ]
  },
  {
   "cell_type": "code",
   "execution_count": 6,
   "metadata": {},
   "outputs": [
    {
     "data": {
      "text/plain": [
       "'alex'"
      ]
     },
     "execution_count": 6,
     "metadata": {},
     "output_type": "execute_result"
    }
   ],
   "source": [
    "names[0].text.strip()"
   ]
  },
  {
   "cell_type": "code",
   "execution_count": 7,
   "metadata": {},
   "outputs": [
    {
     "data": {
      "text/plain": [
       "['alex',\n",
       " 'onbjerg',\n",
       " 'lewis6991',\n",
       " 'DHowett',\n",
       " 'emilk',\n",
       " 'JelleZijlstra',\n",
       " 'fonsp',\n",
       " 'me-no-dev',\n",
       " 'josharian',\n",
       " 'twpayne',\n",
       " 'jsoref',\n",
       " 'jonataslaw',\n",
       " 'emersion',\n",
       " 'Keno',\n",
       " 'philippjfr',\n",
       " 'MaartenGr',\n",
       " 'arogozhnikov',\n",
       " 'dpgaspar',\n",
       " 'quisquous',\n",
       " 'stephencelis',\n",
       " 'hrydgard',\n",
       " 'sethvargo',\n",
       " 'foolip']"
      ]
     },
     "execution_count": 7,
     "metadata": {},
     "output_type": "execute_result"
    }
   ],
   "source": [
    "name_list=[]\n",
    "for element in names:\n",
    "    x=element.text.strip()\n",
    "    name_list.append(x)\n",
    "\n",
    "\n",
    "name_list"
   ]
  },
  {
   "cell_type": "markdown",
   "metadata": {},
   "source": [
    "#### 1.1. Display the trending Python repositories in GitHub.\n",
    "\n",
    "The steps to solve this problem is similar to the previous one except that you need to find out the repository names instead of developer names."
   ]
  },
  {
   "cell_type": "code",
   "execution_count": 8,
   "metadata": {},
   "outputs": [],
   "source": [
    "# This is the url you will scrape in this exercise\n",
    "url = 'https://github.com/trending/python?since=daily'"
   ]
  },
  {
   "cell_type": "code",
   "execution_count": 9,
   "metadata": {},
   "outputs": [
    {
     "data": {
      "text/plain": [
       "200"
      ]
     },
     "execution_count": 9,
     "metadata": {},
     "output_type": "execute_result"
    }
   ],
   "source": [
    "response=requests.get(url=url)\n",
    "response.status_code"
   ]
  },
  {
   "cell_type": "code",
   "execution_count": 10,
   "metadata": {},
   "outputs": [],
   "source": [
    "soup=BeautifulSoup(response.content)"
   ]
  },
  {
   "cell_type": "code",
   "execution_count": 11,
   "metadata": {},
   "outputs": [
    {
     "data": {
      "text/plain": [
       "25"
      ]
     },
     "execution_count": 11,
     "metadata": {},
     "output_type": "execute_result"
    }
   ],
   "source": [
    "repos=soup.find_all('h1', attrs={'class':'h3 lh-condensed'})\n",
    "len(repos)"
   ]
  },
  {
   "cell_type": "code",
   "execution_count": 12,
   "metadata": {},
   "outputs": [
    {
     "data": {
      "text/plain": [
       "'pyodide/pyodide'"
      ]
     },
     "execution_count": 12,
     "metadata": {},
     "output_type": "execute_result"
    }
   ],
   "source": [
    "x=repos[1].text.strip()\n",
    "y=x.replace(\" \", \"\")\n",
    "z=y.replace(\"\\n\", \"\")\n",
    "z"
   ]
  },
  {
   "cell_type": "code",
   "execution_count": 13,
   "metadata": {},
   "outputs": [
    {
     "data": {
      "text/plain": [
       "['lucidrains/DALLE2-pytorch',\n",
       " 'pyodide/pyodide',\n",
       " 'donnemartin/system-design-primer',\n",
       " 'Chia-Network/chia-blockchain',\n",
       " 'gradio-app/gradio',\n",
       " 'home-assistant/core',\n",
       " 'freqtrade/freqtrade',\n",
       " 'Vonng/ddia',\n",
       " 'strawberry-graphql/strawberry',\n",
       " 'ZPdesu/Barbershop',\n",
       " 'neetcode-gh/leetcode',\n",
       " 'project-alice-assistant/ProjectAlice',\n",
       " 'HypothesisWorks/hypothesis',\n",
       " 'geerlingguy/ansible-for-devops',\n",
       " 'tensorflow/models',\n",
       " 'mhamilton723/STEGO',\n",
       " 'paperless-ngx/paperless-ngx',\n",
       " 'plamere/spotipy',\n",
       " 'apache/airflow',\n",
       " 'yt-dlp/yt-dlp',\n",
       " 'kubernetes-client/python',\n",
       " 'openai/DALL-E',\n",
       " 'lucidrains/vit-pytorch',\n",
       " 'MatrixTM/MHDDoS',\n",
       " 'blakeblackshear/frigate']"
      ]
     },
     "execution_count": 13,
     "metadata": {},
     "output_type": "execute_result"
    }
   ],
   "source": [
    "repos_list=[]\n",
    "\n",
    "for element in repos:\n",
    "    x=element.text.strip().replace(\" \", \"\").replace(\"\\n\", \"\")\n",
    "    repos_list.append(x)\n",
    "\n",
    "  \n",
    "repos_list\n",
    "    "
   ]
  },
  {
   "cell_type": "markdown",
   "metadata": {},
   "source": [
    "#### 2. Display all the image links from Walt Disney wikipedia page.\n",
    "Hint: use `.get()` to access information inside tags. Check out the documentation."
   ]
  },
  {
   "cell_type": "code",
   "execution_count": 14,
   "metadata": {},
   "outputs": [],
   "source": [
    "# This is the url you will scrape in this exercise\n",
    "url = 'https://en.wikipedia.org/wiki/Walt_Disney'"
   ]
  },
  {
   "cell_type": "code",
   "execution_count": 15,
   "metadata": {},
   "outputs": [],
   "source": [
    "response=requests.get(url)\n",
    "soup=BeautifulSoup(response.content)"
   ]
  },
  {
   "cell_type": "code",
   "execution_count": 16,
   "metadata": {},
   "outputs": [],
   "source": [
    "images=soup.find_all('a', attrs={'class':'image'})\n"
   ]
  },
  {
   "cell_type": "code",
   "execution_count": 17,
   "metadata": {},
   "outputs": [
    {
     "data": {
      "text/plain": [
       "['https://en.wikipedia.org/wiki/File:Walt_Disney_1946.JPG',\n",
       " 'https://en.wikipedia.org/wiki/File:Walt_Disney_1942_signature.svg',\n",
       " 'https://en.wikipedia.org/wiki/File:Walt_Disney_envelope_ca._1921.jpg',\n",
       " 'https://en.wikipedia.org/wiki/File:Trolley_Troubles_poster.jpg',\n",
       " 'https://en.wikipedia.org/wiki/File:Steamboat-willie.jpg',\n",
       " 'https://en.wikipedia.org/wiki/File:Walt_Disney_1935.jpg',\n",
       " 'https://en.wikipedia.org/wiki/File:Walt_Disney_Snow_white_1937_trailer_screenshot_(13).jpg',\n",
       " 'https://en.wikipedia.org/wiki/File:Disney_drawing_goofy.jpg',\n",
       " 'https://en.wikipedia.org/wiki/File:DisneySchiphol1951.jpg',\n",
       " 'https://en.wikipedia.org/wiki/File:WaltDisneyplansDisneylandDec1954.jpg',\n",
       " 'https://en.wikipedia.org/wiki/File:Walt_disney_portrait_right.jpg',\n",
       " 'https://en.wikipedia.org/wiki/File:Walt_Disney_Grave.JPG',\n",
       " 'https://en.wikipedia.org/wiki/File:Roy_O._Disney_with_Company_at_Press_Conference.jpg',\n",
       " 'https://en.wikipedia.org/wiki/File:Disney_Oscar_1953_(cropped).jpg',\n",
       " 'https://en.wikipedia.org/wiki/File:Disney1968.jpg',\n",
       " 'https://en.wikipedia.org/wiki/File:Disneyland_Resort_logo.svg',\n",
       " 'https://en.wikipedia.org/wiki/File:Animation_disc.svg',\n",
       " 'https://en.wikipedia.org/wiki/File:P_vip.svg',\n",
       " 'https://en.wikipedia.org/wiki/File:Magic_Kingdom_castle.jpg',\n",
       " 'https://en.wikipedia.org/wiki/File:Video-x-generic.svg',\n",
       " 'https://en.wikipedia.org/wiki/File:Flag_of_Los_Angeles_County,_California.svg',\n",
       " 'https://en.wikipedia.org/wiki/File:Blank_television_set.svg',\n",
       " 'https://en.wikipedia.org/wiki/File:Flag_of_the_United_States.svg']"
      ]
     },
     "execution_count": 17,
     "metadata": {},
     "output_type": "execute_result"
    }
   ],
   "source": [
    "url_list=[]\n",
    "\n",
    "for element in images:\n",
    "    url='https://en.wikipedia.org'+ element.get('href')\n",
    "    url_list.append(url)\n",
    "\n",
    "url_list"
   ]
  },
  {
   "cell_type": "markdown",
   "metadata": {},
   "source": [
    "#### 2.1. List all language names and number of related articles in the order they appear in wikipedia.org."
   ]
  },
  {
   "cell_type": "code",
   "execution_count": 18,
   "metadata": {},
   "outputs": [],
   "source": [
    "# This is the url you will scrape in this exercise\n",
    "url = 'https://www.wikipedia.org/'"
   ]
  },
  {
   "cell_type": "code",
   "execution_count": 19,
   "metadata": {},
   "outputs": [],
   "source": [
    "response=requests.get(url)\n",
    "soup=BeautifulSoup(response.content)"
   ]
  },
  {
   "cell_type": "code",
   "execution_count": 20,
   "metadata": {},
   "outputs": [
    {
     "data": {
      "text/plain": [
       "' English 6458000+ articles '"
      ]
     },
     "execution_count": 20,
     "metadata": {},
     "output_type": "execute_result"
    }
   ],
   "source": [
    "languages=soup.find_all('a', attrs={'class':'link-box'})\n",
    "len(languages)\n",
    "x=languages[0].text\n",
    "x=x.replace('\\n', ' ')\n",
    "x=x.replace('\\xa0','')\n",
    "x"
   ]
  },
  {
   "cell_type": "code",
   "execution_count": 21,
   "metadata": {},
   "outputs": [
    {
     "data": {
      "text/plain": [
       "[' English 6458000+ articles ',\n",
       " ' Русский 1798000+ статей ',\n",
       " ' 日本語 1314000+ 記事 ',\n",
       " ' Deutsch 2667000+ Artikel ',\n",
       " ' Español 1755000+ artículos ',\n",
       " ' Français 2400000+ articles ',\n",
       " ' 中文 1256000+ 條目 ',\n",
       " ' Italiano 1742000+ voci ',\n",
       " ' Português 1085000+ artigos ',\n",
       " ' Polski 1512000+ haseł ']"
      ]
     },
     "execution_count": 21,
     "metadata": {},
     "output_type": "execute_result"
    }
   ],
   "source": [
    "language_article_list=[]\n",
    "for element in languages:\n",
    "    x=element.text.replace('\\n', ' ').replace('\\xa0','')\n",
    "    language_article_list.append(x)\n",
    "    \n",
    "language_article_list"
   ]
  },
  {
   "cell_type": "code",
   "execution_count": 22,
   "metadata": {},
   "outputs": [],
   "source": [
    "#number_articles=soup.find_all('bdi',attrs={'dir':'ltr'})\n",
    "#len(number_articles)"
   ]
  },
  {
   "cell_type": "markdown",
   "metadata": {},
   "source": [
    "#### 2.2. Display the top 10 languages by number of native speakers stored in a pandas dataframe.\n",
    "Hint: After finding the correct table you want to analyse, you can use a nested **for** loop to find the elements row by row (check out the 'td' and 'tr' tags). <br>An easier way to do it is using pd.read_html(), check out documentation [here](https://pandas.pydata.org/pandas-docs/version/0.23.4/generated/pandas.read_html.html)."
   ]
  },
  {
   "cell_type": "code",
   "execution_count": 23,
   "metadata": {},
   "outputs": [],
   "source": [
    "# This is the url you will scrape in this exercise\n",
    "url = 'https://en.wikipedia.org/wiki/List_of_languages_by_number_of_native_speakers'"
   ]
  },
  {
   "cell_type": "code",
   "execution_count": 24,
   "metadata": {},
   "outputs": [
    {
     "data": {
      "text/html": [
       "<div>\n",
       "<style scoped>\n",
       "    .dataframe tbody tr th:only-of-type {\n",
       "        vertical-align: middle;\n",
       "    }\n",
       "\n",
       "    .dataframe tbody tr th {\n",
       "        vertical-align: top;\n",
       "    }\n",
       "\n",
       "    .dataframe thead th {\n",
       "        text-align: right;\n",
       "    }\n",
       "</style>\n",
       "<table border=\"1\" class=\"dataframe\">\n",
       "  <thead>\n",
       "    <tr style=\"text-align: right;\">\n",
       "      <th></th>\n",
       "      <th>Rank</th>\n",
       "      <th>Language</th>\n",
       "      <th>Speakers(millions)</th>\n",
       "      <th>Percentageof world pop.(March 2019)[10]</th>\n",
       "      <th>Language family</th>\n",
       "      <th>Branch</th>\n",
       "    </tr>\n",
       "  </thead>\n",
       "  <tbody>\n",
       "    <tr>\n",
       "      <th>0</th>\n",
       "      <td>1</td>\n",
       "      <td>Mandarin Chinese</td>\n",
       "      <td>918</td>\n",
       "      <td>11.922%</td>\n",
       "      <td>Sino-Tibetan</td>\n",
       "      <td>Sinitic</td>\n",
       "    </tr>\n",
       "    <tr>\n",
       "      <th>1</th>\n",
       "      <td>2</td>\n",
       "      <td>Spanish</td>\n",
       "      <td>480</td>\n",
       "      <td>5.994%</td>\n",
       "      <td>Indo-European</td>\n",
       "      <td>Romance</td>\n",
       "    </tr>\n",
       "    <tr>\n",
       "      <th>2</th>\n",
       "      <td>3</td>\n",
       "      <td>English</td>\n",
       "      <td>379</td>\n",
       "      <td>4.922%</td>\n",
       "      <td>Indo-European</td>\n",
       "      <td>Germanic</td>\n",
       "    </tr>\n",
       "    <tr>\n",
       "      <th>3</th>\n",
       "      <td>4</td>\n",
       "      <td>Hindi (sanskritised Hindustani)[11]</td>\n",
       "      <td>341</td>\n",
       "      <td>4.429%</td>\n",
       "      <td>Indo-European</td>\n",
       "      <td>Indo-Aryan</td>\n",
       "    </tr>\n",
       "    <tr>\n",
       "      <th>4</th>\n",
       "      <td>5</td>\n",
       "      <td>Bengali</td>\n",
       "      <td>300</td>\n",
       "      <td>4.000%</td>\n",
       "      <td>Indo-European</td>\n",
       "      <td>Indo-Aryan</td>\n",
       "    </tr>\n",
       "    <tr>\n",
       "      <th>5</th>\n",
       "      <td>6</td>\n",
       "      <td>Portuguese</td>\n",
       "      <td>221</td>\n",
       "      <td>2.870%</td>\n",
       "      <td>Indo-European</td>\n",
       "      <td>Romance</td>\n",
       "    </tr>\n",
       "    <tr>\n",
       "      <th>6</th>\n",
       "      <td>7</td>\n",
       "      <td>Russian</td>\n",
       "      <td>154</td>\n",
       "      <td>2.000%</td>\n",
       "      <td>Indo-European</td>\n",
       "      <td>Balto-Slavic</td>\n",
       "    </tr>\n",
       "    <tr>\n",
       "      <th>7</th>\n",
       "      <td>8</td>\n",
       "      <td>Japanese</td>\n",
       "      <td>128</td>\n",
       "      <td>1.662%</td>\n",
       "      <td>Japonic</td>\n",
       "      <td>Japanese</td>\n",
       "    </tr>\n",
       "    <tr>\n",
       "      <th>8</th>\n",
       "      <td>9</td>\n",
       "      <td>Western Punjabi[12]</td>\n",
       "      <td>92.7</td>\n",
       "      <td>1.204%</td>\n",
       "      <td>Indo-European</td>\n",
       "      <td>Indo-Aryan</td>\n",
       "    </tr>\n",
       "    <tr>\n",
       "      <th>9</th>\n",
       "      <td>10</td>\n",
       "      <td>Marathi</td>\n",
       "      <td>83.1</td>\n",
       "      <td>1.079%</td>\n",
       "      <td>Indo-European</td>\n",
       "      <td>Indo-Aryan</td>\n",
       "    </tr>\n",
       "  </tbody>\n",
       "</table>\n",
       "</div>"
      ],
      "text/plain": [
       "   Rank                             Language Speakers(millions)  \\\n",
       "0     1                     Mandarin Chinese                918   \n",
       "1     2                              Spanish                480   \n",
       "2     3                              English                379   \n",
       "3     4  Hindi (sanskritised Hindustani)[11]                341   \n",
       "4     5                              Bengali                300   \n",
       "5     6                           Portuguese                221   \n",
       "6     7                              Russian                154   \n",
       "7     8                             Japanese                128   \n",
       "8     9                  Western Punjabi[12]               92.7   \n",
       "9    10                              Marathi               83.1   \n",
       "\n",
       "  Percentageof world pop.(March 2019)[10] Language family        Branch  \n",
       "0                                 11.922%    Sino-Tibetan       Sinitic  \n",
       "1                                  5.994%   Indo-European       Romance  \n",
       "2                                  4.922%   Indo-European      Germanic  \n",
       "3                                  4.429%   Indo-European    Indo-Aryan  \n",
       "4                                  4.000%   Indo-European    Indo-Aryan  \n",
       "5                                  2.870%   Indo-European       Romance  \n",
       "6                                  2.000%   Indo-European  Balto-Slavic  \n",
       "7                                  1.662%         Japonic      Japanese  \n",
       "8                                  1.204%   Indo-European    Indo-Aryan  \n",
       "9                                  1.079%   Indo-European    Indo-Aryan  "
      ]
     },
     "execution_count": 24,
     "metadata": {},
     "output_type": "execute_result"
    }
   ],
   "source": [
    "table=pd.read_html('https://en.wikipedia.org/wiki/List_of_languages_by_number_of_native_speakers')\n",
    "language_table=table[1]\n",
    "language_table.head(10)"
   ]
  },
  {
   "cell_type": "markdown",
   "metadata": {},
   "source": [
    "#### 3. Display IMDB's top 250 data (movie name, initial release, director name and stars) as a pandas dataframe.\n",
    "Hint: If you hover over the title of the movie, you should see the director's name. Can you find where it's stored in the html?"
   ]
  },
  {
   "cell_type": "code",
   "execution_count": 25,
   "metadata": {},
   "outputs": [],
   "source": [
    "# This is the url you will scrape in this exercise \n",
    "url = 'https://www.imdb.com/chart/top'"
   ]
  },
  {
   "cell_type": "code",
   "execution_count": 26,
   "metadata": {},
   "outputs": [
    {
     "data": {
      "text/plain": [
       "200"
      ]
     },
     "execution_count": 26,
     "metadata": {},
     "output_type": "execute_result"
    }
   ],
   "source": [
    "response=requests.get(url=url)\n",
    "response.status_code"
   ]
  },
  {
   "cell_type": "code",
   "execution_count": 27,
   "metadata": {},
   "outputs": [],
   "source": [
    "soup=BeautifulSoup(response.content)"
   ]
  },
  {
   "cell_type": "code",
   "execution_count": 28,
   "metadata": {},
   "outputs": [],
   "source": [
    "#tables = soup.find_all('table', attrs={\"data-caller-name\":\"chart-top250movie\"})\n",
    "#tables[0]"
   ]
  },
  {
   "cell_type": "code",
   "execution_count": 29,
   "metadata": {},
   "outputs": [],
   "source": [
    "#header= tables[0].find_all('th') \n",
    "#body= tables[0].find_all('td')"
   ]
  },
  {
   "cell_type": "code",
   "execution_count": 30,
   "metadata": {},
   "outputs": [],
   "source": [
    "#columns=[element.text for element in header]\n",
    "#content=[element.text for element in body]"
   ]
  },
  {
   "cell_type": "code",
   "execution_count": 31,
   "metadata": {},
   "outputs": [],
   "source": [
    "#df_movies=pd.DataFrame([content, columns]).T\n",
    "#df_movies\n",
    "\n",
    "# I don't really understand why that approach didn't work"
   ]
  },
  {
   "cell_type": "code",
   "execution_count": 32,
   "metadata": {},
   "outputs": [
    {
     "data": {
      "text/plain": [
       "'\\n      1.\\n      Os Condenados de Shawshank\\n(1994)\\n'"
      ]
     },
     "execution_count": 32,
     "metadata": {},
     "output_type": "execute_result"
    }
   ],
   "source": [
    "movie_table=soup.find_all('td', attrs={'class':'titleColumn'})\n",
    "len(movie_table)\n",
    "movie_table[0].text"
   ]
  },
  {
   "cell_type": "code",
   "execution_count": 33,
   "metadata": {},
   "outputs": [
    {
     "data": {
      "text/plain": [
       "'Os Condenados de Shawshank (1994)'"
      ]
     },
     "execution_count": 33,
     "metadata": {},
     "output_type": "execute_result"
    }
   ],
   "source": [
    "import re\n",
    "\n",
    "x=movie_table[0].text\n",
    "x=x.strip().replace(\"\\n\", \" \")\n",
    "x=re.sub(\"\\d+\\.\", \"\", x)\n",
    "x=x.strip()\n",
    "x"
   ]
  },
  {
   "cell_type": "code",
   "execution_count": 34,
   "metadata": {},
   "outputs": [],
   "source": [
    "movie_list=list(x)"
   ]
  },
  {
   "cell_type": "code",
   "execution_count": 35,
   "metadata": {},
   "outputs": [],
   "source": [
    "#now loop what we did above for all element in the movie_table\n",
    "\n",
    "movie_name_year=[]\n",
    "\n",
    "for element in movie_table:\n",
    "    x=element.text\n",
    "    x=x.strip().replace(\"\\n\", \" \")\n",
    "    x=re.sub(\"\\d+\\.\", \"\", x)\n",
    "    x=x.strip()\n",
    "    movie_name_year.append(x)\n"
   ]
  },
  {
   "cell_type": "code",
   "execution_count": 36,
   "metadata": {},
   "outputs": [
    {
     "data": {
      "text/plain": [
       "['Frank Darabont (dir.)', ' Tim Robbins', ' Morgan Freeman']"
      ]
     },
     "execution_count": 36,
     "metadata": {},
     "output_type": "execute_result"
    }
   ],
   "source": [
    "x=movie_table[0].a.get('title')\n",
    "x.split(\",\")"
   ]
  },
  {
   "cell_type": "code",
   "execution_count": 37,
   "metadata": {},
   "outputs": [],
   "source": [
    "movie_list2=[]\n",
    "for element in movie_table:\n",
    "    x=element.a.get('title')\n",
    "    x=x.split(\",\")\n",
    "    movie_list2.append(x)"
   ]
  },
  {
   "cell_type": "code",
   "execution_count": 57,
   "metadata": {},
   "outputs": [
    {
     "data": {
      "text/html": [
       "<div>\n",
       "<style scoped>\n",
       "    .dataframe tbody tr th:only-of-type {\n",
       "        vertical-align: middle;\n",
       "    }\n",
       "\n",
       "    .dataframe tbody tr th {\n",
       "        vertical-align: top;\n",
       "    }\n",
       "\n",
       "    .dataframe thead th {\n",
       "        text-align: right;\n",
       "    }\n",
       "</style>\n",
       "<table border=\"1\" class=\"dataframe\">\n",
       "  <thead>\n",
       "    <tr style=\"text-align: right;\">\n",
       "      <th></th>\n",
       "      <th>Title_Year</th>\n",
       "    </tr>\n",
       "  </thead>\n",
       "  <tbody>\n",
       "    <tr>\n",
       "      <th>0</th>\n",
       "      <td>Os Condenados de Shawshank (1994)</td>\n",
       "    </tr>\n",
       "    <tr>\n",
       "      <th>1</th>\n",
       "      <td>O Padrinho (1972)</td>\n",
       "    </tr>\n",
       "    <tr>\n",
       "      <th>2</th>\n",
       "      <td>O Cavaleiro das Trevas (2008)</td>\n",
       "    </tr>\n",
       "  </tbody>\n",
       "</table>\n",
       "</div>"
      ],
      "text/plain": [
       "                          Title_Year\n",
       "0  Os Condenados de Shawshank (1994)\n",
       "1                  O Padrinho (1972)\n",
       "2      O Cavaleiro das Trevas (2008)"
      ]
     },
     "execution_count": 57,
     "metadata": {},
     "output_type": "execute_result"
    }
   ],
   "source": [
    "#now trying to bring movie_list and movie_list2 info together in a df\n",
    "\n",
    "df_movies_list=pd.DataFrame(movie_name_year, columns={\"Title_Year\"})\n",
    "df_movies_list.head(3)"
   ]
  },
  {
   "cell_type": "code",
   "execution_count": 39,
   "metadata": {},
   "outputs": [
    {
     "data": {
      "text/plain": [
       "[['Frank Darabont (dir.)', ' Tim Robbins', ' Morgan Freeman'],\n",
       " ['Francis Ford Coppola (dir.)', ' Marlon Brando', ' Al Pacino'],\n",
       " ['Christopher Nolan (dir.)', ' Christian Bale', ' Heath Ledger'],\n",
       " ['Francis Ford Coppola (dir.)', ' Al Pacino', ' Robert De Niro'],\n",
       " ['Sidney Lumet (dir.)', ' Henry Fonda', ' Lee J. Cobb'],\n",
       " ['Steven Spielberg (dir.)', ' Liam Neeson', ' Ralph Fiennes'],\n",
       " ['Peter Jackson (dir.)', ' Elijah Wood', ' Viggo Mortensen'],\n",
       " ['Quentin Tarantino (dir.)', ' John Travolta', ' Uma Thurman'],\n",
       " ['Peter Jackson (dir.)', ' Elijah Wood', ' Ian McKellen'],\n",
       " ['Sergio Leone (dir.)', ' Clint Eastwood', ' Eli Wallach'],\n",
       " ['Robert Zemeckis (dir.)', ' Tom Hanks', ' Robin Wright'],\n",
       " ['David Fincher (dir.)', ' Brad Pitt', ' Edward Norton'],\n",
       " ['Christopher Nolan (dir.)', ' Leonardo DiCaprio', ' Joseph Gordon-Levitt'],\n",
       " ['Peter Jackson (dir.)', ' Elijah Wood', ' Ian McKellen'],\n",
       " ['Irvin Kershner (dir.)', ' Mark Hamill', ' Harrison Ford'],\n",
       " ['Lana Wachowski (dir.)', ' Keanu Reeves', ' Laurence Fishburne'],\n",
       " ['Martin Scorsese (dir.)', ' Robert De Niro', ' Ray Liotta'],\n",
       " ['Milos Forman (dir.)', ' Jack Nicholson', ' Louise Fletcher'],\n",
       " ['David Fincher (dir.)', ' Morgan Freeman', ' Brad Pitt'],\n",
       " ['Akira Kurosawa (dir.)', ' Toshirô Mifune', ' Takashi Shimura'],\n",
       " ['Frank Capra (dir.)', ' James Stewart', ' Donna Reed'],\n",
       " ['Jonathan Demme (dir.)', ' Jodie Foster', ' Anthony Hopkins'],\n",
       " ['Fernando Meirelles (dir.)', ' Alexandre Rodrigues', ' Leandro Firmino'],\n",
       " ['Steven Spielberg (dir.)', ' Tom Hanks', ' Matt Damon'],\n",
       " ['Roberto Benigni (dir.)', ' Roberto Benigni', ' Nicoletta Braschi'],\n",
       " ['Frank Darabont (dir.)', ' Tom Hanks', ' Michael Clarke Duncan'],\n",
       " ['George Lucas (dir.)', ' Mark Hamill', ' Harrison Ford'],\n",
       " ['Christopher Nolan (dir.)', ' Matthew McConaughey', ' Anne Hathaway'],\n",
       " ['James Cameron (dir.)', ' Arnold Schwarzenegger', ' Linda Hamilton'],\n",
       " ['Robert Zemeckis (dir.)', ' Michael J. Fox', ' Christopher Lloyd'],\n",
       " ['Hayao Miyazaki (dir.)', ' Daveigh Chase', ' Suzanne Pleshette'],\n",
       " ['Alfred Hitchcock (dir.)', ' Anthony Perkins', ' Janet Leigh'],\n",
       " ['Roman Polanski (dir.)', ' Adrien Brody', ' Thomas Kretschmann'],\n",
       " ['Luc Besson (dir.)', ' Jean Reno', ' Gary Oldman'],\n",
       " ['Bong Joon Ho (dir.)', ' Kang-ho Song', ' Sun-kyun Lee'],\n",
       " ['Roger Allers (dir.)', ' Matthew Broderick', ' Jeremy Irons'],\n",
       " ['Tony Kaye (dir.)', ' Edward Norton', ' Edward Furlong'],\n",
       " ['Ridley Scott (dir.)', ' Russell Crowe', ' Joaquin Phoenix'],\n",
       " ['Bryan Singer (dir.)', ' Kevin Spacey', ' Gabriel Byrne'],\n",
       " ['Martin Scorsese (dir.)', ' Leonardo DiCaprio', ' Matt Damon'],\n",
       " ['Christopher Nolan (dir.)', ' Christian Bale', ' Hugh Jackman'],\n",
       " ['Michael Curtiz (dir.)', ' Humphrey Bogart', ' Ingrid Bergman'],\n",
       " ['Damien Chazelle (dir.)', ' Miles Teller', ' J.K. Simmons'],\n",
       " ['Olivier Nakache (dir.)', ' François Cluzet', ' Omar Sy'],\n",
       " ['Charles Chaplin (dir.)', ' Charles Chaplin', ' Paulette Goddard'],\n",
       " ['Masaki Kobayashi (dir.)', ' Tatsuya Nakadai', ' Akira Ishihama'],\n",
       " ['Sergio Leone (dir.)', ' Henry Fonda', ' Charles Bronson'],\n",
       " ['Isao Takahata (dir.)', ' Tsutomu Tatsumi', ' Ayano Shiraishi'],\n",
       " ['Alfred Hitchcock (dir.)', ' James Stewart', ' Grace Kelly'],\n",
       " ['Ridley Scott (dir.)', ' Sigourney Weaver', ' Tom Skerritt'],\n",
       " ['Charles Chaplin (dir.)', ' Charles Chaplin', ' Virginia Cherrill'],\n",
       " ['Giuseppe Tornatore (dir.)', ' Philippe Noiret', ' Enzo Cannavale'],\n",
       " ['Christopher Nolan (dir.)', ' Guy Pearce', ' Carrie-Anne Moss'],\n",
       " ['Francis Ford Coppola (dir.)', ' Martin Sheen', ' Marlon Brando'],\n",
       " ['Dan Kwan (dir.)', ' Michelle Yeoh', ' Stephanie Hsu'],\n",
       " ['Steven Spielberg (dir.)', ' Harrison Ford', ' Karen Allen'],\n",
       " ['Quentin Tarantino (dir.)', ' Jamie Foxx', ' Christoph Waltz'],\n",
       " ['Andrew Stanton (dir.)', ' Ben Burtt', ' Elissa Knight'],\n",
       " ['Florian Henckel von Donnersmarck (dir.)',\n",
       "  ' Ulrich Mühe',\n",
       "  ' Martina Gedeck'],\n",
       " ['Billy Wilder (dir.)', ' William Holden', ' Gloria Swanson'],\n",
       " ['Stanley Kubrick (dir.)', ' Kirk Douglas', ' Ralph Meeker'],\n",
       " ['Stanley Kubrick (dir.)', ' Jack Nicholson', ' Shelley Duvall'],\n",
       " ['Charles Chaplin (dir.)', ' Charles Chaplin', ' Paulette Goddard'],\n",
       " ['Billy Wilder (dir.)', ' Tyrone Power', ' Marlene Dietrich'],\n",
       " ['Anthony Russo (dir.)', ' Robert Downey Jr.', ' Chris Hemsworth'],\n",
       " ['James Cameron (dir.)', ' Sigourney Weaver', ' Michael Biehn'],\n",
       " ['Sam Mendes (dir.)', ' Kevin Spacey', ' Annette Bening'],\n",
       " ['Stanley Kubrick (dir.)', ' Peter Sellers', ' George C. Scott'],\n",
       " ['Christopher Nolan (dir.)', ' Christian Bale', ' Tom Hardy'],\n",
       " ['Bob Persichetti (dir.)', ' Shameik Moore', ' Jake Johnson'],\n",
       " ['Todd Phillips (dir.)', ' Joaquin Phoenix', ' Robert De Niro'],\n",
       " ['Park Chan-wook (dir.)', ' Choi Min-sik', ' Yoo Ji-Tae'],\n",
       " ['Mel Gibson (dir.)', ' Mel Gibson', ' Sophie Marceau'],\n",
       " ['Milos Forman (dir.)', ' F. Murray Abraham', ' Tom Hulce'],\n",
       " ['John Lasseter (dir.)', ' Tom Hanks', ' Tim Allen'],\n",
       " ['Wolfgang Petersen (dir.)', ' Jürgen Prochnow', ' Herbert Grönemeyer'],\n",
       " ['Lee Unkrich (dir.)', ' Anthony Gonzalez', ' Gael García Bernal'],\n",
       " ['Quentin Tarantino (dir.)', ' Brad Pitt', ' Diane Kruger'],\n",
       " ['Hayao Miyazaki (dir.)', ' Yôji Matsuda', ' Yuriko Ishida'],\n",
       " ['Sergio Leone (dir.)', ' Robert De Niro', ' James Woods'],\n",
       " ['Anthony Russo (dir.)', ' Robert Downey Jr.', ' Chris Evans'],\n",
       " ['Gus Van Sant (dir.)', ' Robin Williams', ' Matt Damon'],\n",
       " ['Darren Aronofsky (dir.)', ' Ellen Burstyn', ' Jared Leto'],\n",
       " ['Lee Unkrich (dir.)', ' Tom Hanks', ' Tim Allen'],\n",
       " ['Stanley Donen (dir.)', ' Gene Kelly', \" Donald O'Connor\"],\n",
       " ['Makoto Shinkai (dir.)', ' Ryûnosuke Kamiki', ' Mone Kamishiraishi'],\n",
       " ['Richard Marquand (dir.)', ' Mark Hamill', ' Harrison Ford'],\n",
       " ['Rajkumar Hirani (dir.)', ' Aamir Khan', ' Madhavan'],\n",
       " ['Stanley Kubrick (dir.)', ' Keir Dullea', ' Gary Lockwood'],\n",
       " ['Quentin Tarantino (dir.)', ' Harvey Keitel', ' Tim Roth'],\n",
       " ['Michel Gondry (dir.)', ' Jim Carrey', ' Kate Winslet'],\n",
       " ['Akira Kurosawa (dir.)', ' Toshirô Mifune', ' Yutaka Sada'],\n",
       " ['Orson Welles (dir.)', ' Orson Welles', ' Joseph Cotten'],\n",
       " ['Nadine Labaki (dir.)', ' Zain Al Rafeea', ' Yordanos Shiferaw'],\n",
       " ['David Lean (dir.)', \" Peter O'Toole\", ' Alec Guinness'],\n",
       " ['Fritz Lang (dir.)', ' Peter Lorre', ' Ellen Widmann'],\n",
       " ['Thomas Vinterberg (dir.)', ' Mads Mikkelsen', ' Thomas Bo Larsen'],\n",
       " ['Alfred Hitchcock (dir.)', ' Cary Grant', ' Eva Marie Saint'],\n",
       " ['Jon Watts (dir.)', ' Tom Holland', ' Zendaya'],\n",
       " ['Alfred Hitchcock (dir.)', ' James Stewart', ' Kim Novak'],\n",
       " ['Jean-Pierre Jeunet (dir.)', ' Audrey Tautou', ' Mathieu Kassovitz'],\n",
       " ['Stanley Kubrick (dir.)', ' Malcolm McDowell', ' Patrick Magee'],\n",
       " ['Elem Klimov (dir.)', ' Aleksey Kravchenko', ' Olga Mironova'],\n",
       " ['Stanley Kubrick (dir.)', ' Matthew Modine', ' R. Lee Ermey'],\n",
       " ['Billy Wilder (dir.)', ' Fred MacMurray', ' Barbara Stanwyck'],\n",
       " ['Billy Wilder (dir.)', ' Jack Lemmon', ' Shirley MacLaine'],\n",
       " ['Brian De Palma (dir.)', ' Al Pacino', ' Michelle Pfeiffer'],\n",
       " ['Martin Scorsese (dir.)', ' Robert De Niro', ' Jodie Foster'],\n",
       " ['Robert Mulligan (dir.)', ' Gregory Peck', ' John Megna'],\n",
       " ['George Roy Hill (dir.)', ' Paul Newman', ' Robert Redford'],\n",
       " ['Akira Kurosawa (dir.)', ' Takashi Shimura', ' Nobuo Kaneko'],\n",
       " ['Thomas Kail (dir.)', ' Lin-Manuel Miranda', ' Phillipa Soo'],\n",
       " ['Curtis Hanson (dir.)', ' Kevin Spacey', ' Russell Crowe'],\n",
       " ['Pete Docter (dir.)', ' Edward Asner', ' Jordan Nagai'],\n",
       " ['Michael Mann (dir.)', ' Al Pacino', ' Robert De Niro'],\n",
       " ['Fritz Lang (dir.)', ' Brigitte Helm', ' Alfred Abel'],\n",
       " ['Guy Ritchie (dir.)', ' Jason Statham', ' Brad Pitt'],\n",
       " ['Asghar Farhadi (dir.)', ' Payman Maadi', ' Leila Hatami'],\n",
       " ['John McTiernan (dir.)', ' Bruce Willis', ' Alan Rickman'],\n",
       " ['Denis Villeneuve (dir.)', ' Lubna Azabal', ' Mélissa Désormeaux-Poulin'],\n",
       " ['Steven Spielberg (dir.)', ' Harrison Ford', ' Sean Connery'],\n",
       " ['Vittorio De Sica (dir.)', ' Lamberto Maggiorani', ' Enzo Staiola'],\n",
       " ['Sam Mendes (dir.)', ' Dean-Charles Chapman', ' George MacKay'],\n",
       " ['Aamir Khan (dir.)', ' Darsheel Safary', ' Aamir Khan'],\n",
       " ['Oliver Hirschbiegel (dir.)', ' Bruno Ganz', ' Alexandra Maria Lara'],\n",
       " ['Sergio Leone (dir.)', ' Clint Eastwood', ' Lee Van Cleef'],\n",
       " ['Christopher Nolan (dir.)', ' Christian Bale', ' Michael Caine'],\n",
       " ['Nitesh Tiwari (dir.)', ' Aamir Khan', ' Sakshi Tanwar'],\n",
       " ['Charles Chaplin (dir.)', ' Charles Chaplin', ' Edna Purviance'],\n",
       " ['Billy Wilder (dir.)', ' Marilyn Monroe', ' Tony Curtis'],\n",
       " ['Florian Zeller (dir.)', ' Anthony Hopkins', ' Olivia Colman'],\n",
       " ['Joseph L. Mankiewicz (dir.)', ' Bette Davis', ' Anne Baxter'],\n",
       " ['Peter Farrelly (dir.)', ' Viggo Mortensen', ' Mahershala Ali'],\n",
       " ['Martin Scorsese (dir.)', ' Leonardo DiCaprio', ' Jonah Hill'],\n",
       " ['Stanley Kramer (dir.)', ' Spencer Tracy', ' Burt Lancaster'],\n",
       " ['Clint Eastwood (dir.)', ' Clint Eastwood', ' Gene Hackman'],\n",
       " ['Guillermo del Toro (dir.)', ' Ivana Baquero', ' Ariadna Gil'],\n",
       " ['Martin Scorsese (dir.)', ' Robert De Niro', ' Sharon Stone'],\n",
       " ['Akira Kurosawa (dir.)', ' Tatsuya Nakadai', ' Akira Terao'],\n",
       " ['Paul Thomas Anderson (dir.)', ' Daniel Day-Lewis', ' Paul Dano'],\n",
       " ['Terry Gilliam (dir.)', ' Graham Chapman', ' John Cleese'],\n",
       " ['Ron Howard (dir.)', ' Russell Crowe', ' Ed Harris'],\n",
       " ['M. Night Shyamalan (dir.)', ' Bruce Willis', ' Haley Joel Osment'],\n",
       " ['Peter Weir (dir.)', ' Jim Carrey', ' Ed Harris'],\n",
       " ['Akira Kurosawa (dir.)', ' Toshirô Mifune', ' Eijirô Tôno'],\n",
       " ['John Huston (dir.)', ' Humphrey Bogart', ' Walter Huston'],\n",
       " ['Akira Kurosawa (dir.)', ' Toshirô Mifune', ' Machiko Kyô'],\n",
       " ['John Sturges (dir.)', ' Steve McQueen', ' James Garner'],\n",
       " ['Martin Scorsese (dir.)', ' Leonardo DiCaprio', ' Emily Mortimer'],\n",
       " ['Quentin Tarantino (dir.)', ' Uma Thurman', ' David Carradine'],\n",
       " ['Steven Spielberg (dir.)', ' Sam Neill', ' Laura Dern'],\n",
       " ['Ethan Coen (dir.)', ' Tommy Lee Jones', ' Javier Bardem'],\n",
       " ['David Lynch (dir.)', ' Anthony Hopkins', ' John Hurt'],\n",
       " ['Andrew Stanton (dir.)', ' Albert Brooks', ' Ellen DeGeneres'],\n",
       " ['Martin Scorsese (dir.)', ' Robert De Niro', ' Cathy Moriarty'],\n",
       " ['Roman Polanski (dir.)', ' Jack Nicholson', ' Faye Dunaway'],\n",
       " ['Victor Fleming (dir.)', ' Clark Gable', ' Vivien Leigh'],\n",
       " ['James McTeigue (dir.)', ' Hugo Weaving', ' Natalie Portman'],\n",
       " ['Pete Docter (dir.)', ' Amy Poehler', ' Bill Hader'],\n",
       " ['Guy Ritchie (dir.)', ' Jason Flemyng', ' Dexter Fletcher'],\n",
       " ['John Carpenter (dir.)', ' Kurt Russell', ' Wilford Brimley'],\n",
       " ['Alfred Hitchcock (dir.)', ' Ray Milland', ' Grace Kelly'],\n",
       " ['Juan José Campanella (dir.)', ' Ricardo Darín', ' Soledad Villamil'],\n",
       " ['David Lean (dir.)', ' William Holden', ' Alec Guinness'],\n",
       " ['Hayao Miyazaki (dir.)', ' Chieko Baishô', ' Takuya Kimura'],\n",
       " ['Danny Boyle (dir.)', ' Ewan McGregor', ' Ewen Bremner'],\n",
       " ['Martin McDonagh (dir.)', ' Frances McDormand', ' Woody Harrelson'],\n",
       " ['Clint Eastwood (dir.)', ' Clint Eastwood', ' Bee Vang'],\n",
       " [\"Gavin O'Connor (dir.)\", ' Tom Hardy', ' Nick Nolte'],\n",
       " ['Joel Coen (dir.)', ' William H. Macy', ' Frances McDormand'],\n",
       " ['Hayao Miyazaki (dir.)', ' Hitoshi Takagi', ' Noriko Hidaka'],\n",
       " ['Denis Villeneuve (dir.)', ' Hugh Jackman', ' Jake Gyllenhaal'],\n",
       " ['Clint Eastwood (dir.)', ' Hilary Swank', ' Clint Eastwood'],\n",
       " ['Charles Chaplin (dir.)', ' Charles Chaplin', ' Mack Swain'],\n",
       " ['Ridley Scott (dir.)', ' Harrison Ford', ' Rutger Hauer'],\n",
       " ['Elia Kazan (dir.)', ' Marlon Brando', ' Karl Malden'],\n",
       " ['Steven Spielberg (dir.)', ' Leonardo DiCaprio', ' Tom Hanks'],\n",
       " ['Carol Reed (dir.)', ' Orson Welles', ' Joseph Cotten'],\n",
       " ['Majid Majidi (dir.)', ' Mohammad Amir Naji', ' Amir Farrokh Hashemian'],\n",
       " ['William Wyler (dir.)', ' Charlton Heston', ' Jack Hawkins'],\n",
       " ['Clyde Bruckman (dir.)', ' Buster Keaton', ' Marion Mack'],\n",
       " ['Steve McQueen (dir.)', ' Chiwetel Ejiofor', ' Michael Kenneth Williams'],\n",
       " ['Ingmar Bergman (dir.)', ' Victor Sjöström', ' Bibi Andersson'],\n",
       " ['David Fincher (dir.)', ' Ben Affleck', ' Rosamund Pike'],\n",
       " ['Michael Cimino (dir.)', ' Robert De Niro', ' Christopher Walken'],\n",
       " ['Richard Linklater (dir.)', ' Ethan Hawke', ' Julie Delpy'],\n",
       " ['David Yates (dir.)', ' Daniel Radcliffe', ' Emma Watson'],\n",
       " ['Jim Sheridan (dir.)', ' Daniel Day-Lewis', ' Pete Postlethwaite'],\n",
       " ['Frank Capra (dir.)', ' James Stewart', ' Jean Arthur'],\n",
       " ['Wes Anderson (dir.)', ' Ralph Fiennes', ' F. Murray Abraham'],\n",
       " ['Henri-Georges Clouzot (dir.)', ' Yves Montand', ' Charles Vanel'],\n",
       " ['Buster Keaton (dir.)', ' Buster Keaton', ' Kathryn McGuire'],\n",
       " ['Lenny Abrahamson (dir.)', ' Brie Larson', ' Jacob Tremblay'],\n",
       " ['Stanley Kubrick (dir.)', \" Ryan O'Neal\", ' Marisa Berenson'],\n",
       " ['Bong Joon Ho (dir.)', ' Kang-ho Song', ' Kim Sang-kyung'],\n",
       " ['Ingmar Bergman (dir.)', ' Max von Sydow', ' Gunnar Björnstrand'],\n",
       " ['Mel Gibson (dir.)', ' Andrew Garfield', ' Sam Worthington'],\n",
       " ['Sergio Pablos (dir.)', ' Jason Schwartzman', ' J.K. Simmons'],\n",
       " ['Damián Szifron (dir.)', ' Darío Grandinetti', ' María Marull'],\n",
       " ['Joel Coen (dir.)', ' Jeff Bridges', ' John Goodman'],\n",
       " ['Dean DeBlois (dir.)', ' Jay Baruchel', ' Gerard Butler'],\n",
       " ['George Miller (dir.)', ' Tom Hardy', ' Charlize Theron'],\n",
       " ['Adam Elliot (dir.)', ' Toni Collette', ' Philip Seymour Hoffman'],\n",
       " ['Satyajit Ray (dir.)', ' Kanu Bannerjee', ' Karuna Bannerjee'],\n",
       " ['Steven Spielberg (dir.)', ' Roy Scheider', ' Robert Shaw'],\n",
       " ['Pete Docter (dir.)', ' Billy Crystal', ' John Goodman'],\n",
       " ['Carl Theodor Dreyer (dir.)', ' Maria Falconetti', ' Eugene Silvain'],\n",
       " ['Terry George (dir.)', ' Don Cheadle', ' Sophie Okonedo'],\n",
       " ['Yasujirô Ozu (dir.)', ' Chishû Ryû', ' Chieko Higashiyama'],\n",
       " ['Peter Weir (dir.)', ' Robin Williams', ' Robert Sean Leonard'],\n",
       " ['Oliver Stone (dir.)', ' Charlie Sheen', ' Tom Berenger'],\n",
       " ['John G. Avildsen (dir.)', ' Sylvester Stallone', ' Talia Shire'],\n",
       " ['James Mangold (dir.)', ' Matt Damon', ' Christian Bale'],\n",
       " ['Rob Reiner (dir.)', ' Wil Wheaton', ' River Phoenix'],\n",
       " ['James Cameron (dir.)', ' Arnold Schwarzenegger', ' Linda Hamilton'],\n",
       " ['Ron Howard (dir.)', ' Daniel Brühl', ' Chris Hemsworth'],\n",
       " ['Tom McCarthy (dir.)', ' Mark Ruffalo', ' Michael Keaton'],\n",
       " ['Sean Penn (dir.)', ' Emile Hirsch', ' Vince Vaughn'],\n",
       " ['Sidney Lumet (dir.)', ' Faye Dunaway', ' William Holden'],\n",
       " ['Victor Fleming (dir.)', ' Judy Garland', ' Frank Morgan'],\n",
       " ['James Mangold (dir.)', ' Hugh Jackman', ' Patrick Stewart'],\n",
       " ['Harold Ramis (dir.)', ' Bill Murray', ' Andie MacDowell'],\n",
       " ['Brad Bird (dir.)', ' Brad Garrett', ' Lou Romano'],\n",
       " ['William Friedkin (dir.)', ' Ellen Burstyn', ' Max von Sydow'],\n",
       " ['Richard Linklater (dir.)', ' Ethan Hawke', ' Julie Delpy'],\n",
       " ['William Wyler (dir.)', ' Myrna Loy', ' Dana Andrews'],\n",
       " ['Brad Bird (dir.)', ' Craig T. Nelson', ' Samuel L. Jackson'],\n",
       " ['Ernst Lubitsch (dir.)', ' Carole Lombard', ' Jack Benny'],\n",
       " ['Gillo Pontecorvo (dir.)', ' Brahim Hadjadj', ' Jean Martin'],\n",
       " ['Alfred Hitchcock (dir.)', ' Laurence Olivier', ' Joan Fontaine'],\n",
       " ['John Ford (dir.)', ' Henry Fonda', ' Jane Darwell'],\n",
       " ['Lasse Hallström (dir.)', ' Richard Gere', ' Joan Allen'],\n",
       " ['Stuart Rosenberg (dir.)', ' Paul Newman', ' George Kennedy'],\n",
       " ['Alejandro G. Iñárritu (dir.)', ' Emilio Echevarría', ' Gael García Bernal'],\n",
       " ['Akira Kurosawa (dir.)', ' Maksim Munzuk', ' Yuriy Solomin'],\n",
       " ['François Truffaut (dir.)', ' Jean-Pierre Léaud', ' Albert Rémy'],\n",
       " ['Cagan Irmak (dir.)', ' Çetin Tekindor', ' Fikret Kuskan'],\n",
       " ['Ingmar Bergman (dir.)', ' Bibi Andersson', ' Liv Ullmann'],\n",
       " ['Terry Jones (dir.)', ' Graham Chapman', ' John Cleese'],\n",
       " ['Gore Verbinski (dir.)', ' Johnny Depp', ' Geoffrey Rush'],\n",
       " ['Mathieu Kassovitz (dir.)', ' Vincent Cassel', ' Hubert Koundé'],\n",
       " ['Robert Wise (dir.)', ' Julie Andrews', ' Christopher Plummer'],\n",
       " ['Frank Capra (dir.)', ' Clark Gable', ' Claudette Colbert'],\n",
       " ['Park Chan-wook (dir.)', ' Kim Min-hee', ' Ha Jung-woo'],\n",
       " ['Richard Attenborough (dir.)', ' Ben Kingsley', ' John Gielgud'],\n",
       " ['Ron Clements (dir.)', ' Scott Weinger', ' Robin Williams'],\n",
       " ['Tate Taylor (dir.)', ' Emma Stone', ' Viola Davis'],\n",
       " ['Gary Trousdale (dir.)', \" Paige O'Hara\", ' Robby Benson'],\n",
       " ['Jules Dassin (dir.)', ' Jean Servais', ' Carl Möhner'],\n",
       " ['Kevin Costner (dir.)', ' Kevin Costner', ' Mary McDonnell']]"
      ]
     },
     "execution_count": 39,
     "metadata": {},
     "output_type": "execute_result"
    }
   ],
   "source": [
    "movie_list2"
   ]
  },
  {
   "cell_type": "code",
   "execution_count": 58,
   "metadata": {},
   "outputs": [
    {
     "data": {
      "text/html": [
       "<div>\n",
       "<style scoped>\n",
       "    .dataframe tbody tr th:only-of-type {\n",
       "        vertical-align: middle;\n",
       "    }\n",
       "\n",
       "    .dataframe tbody tr th {\n",
       "        vertical-align: top;\n",
       "    }\n",
       "\n",
       "    .dataframe thead th {\n",
       "        text-align: right;\n",
       "    }\n",
       "</style>\n",
       "<table border=\"1\" class=\"dataframe\">\n",
       "  <thead>\n",
       "    <tr style=\"text-align: right;\">\n",
       "      <th></th>\n",
       "      <th>Director</th>\n",
       "      <th>Star1</th>\n",
       "      <th>Star2</th>\n",
       "    </tr>\n",
       "  </thead>\n",
       "  <tbody>\n",
       "    <tr>\n",
       "      <th>0</th>\n",
       "      <td>Frank Darabont (dir.)</td>\n",
       "      <td>Tim Robbins</td>\n",
       "      <td>Morgan Freeman</td>\n",
       "    </tr>\n",
       "    <tr>\n",
       "      <th>1</th>\n",
       "      <td>Francis Ford Coppola (dir.)</td>\n",
       "      <td>Marlon Brando</td>\n",
       "      <td>Al Pacino</td>\n",
       "    </tr>\n",
       "    <tr>\n",
       "      <th>2</th>\n",
       "      <td>Christopher Nolan (dir.)</td>\n",
       "      <td>Christian Bale</td>\n",
       "      <td>Heath Ledger</td>\n",
       "    </tr>\n",
       "    <tr>\n",
       "      <th>3</th>\n",
       "      <td>Francis Ford Coppola (dir.)</td>\n",
       "      <td>Al Pacino</td>\n",
       "      <td>Robert De Niro</td>\n",
       "    </tr>\n",
       "    <tr>\n",
       "      <th>4</th>\n",
       "      <td>Sidney Lumet (dir.)</td>\n",
       "      <td>Henry Fonda</td>\n",
       "      <td>Lee J. Cobb</td>\n",
       "    </tr>\n",
       "    <tr>\n",
       "      <th>...</th>\n",
       "      <td>...</td>\n",
       "      <td>...</td>\n",
       "      <td>...</td>\n",
       "    </tr>\n",
       "    <tr>\n",
       "      <th>245</th>\n",
       "      <td>Ron Clements (dir.)</td>\n",
       "      <td>Scott Weinger</td>\n",
       "      <td>Robin Williams</td>\n",
       "    </tr>\n",
       "    <tr>\n",
       "      <th>246</th>\n",
       "      <td>Tate Taylor (dir.)</td>\n",
       "      <td>Emma Stone</td>\n",
       "      <td>Viola Davis</td>\n",
       "    </tr>\n",
       "    <tr>\n",
       "      <th>247</th>\n",
       "      <td>Gary Trousdale (dir.)</td>\n",
       "      <td>Paige O'Hara</td>\n",
       "      <td>Robby Benson</td>\n",
       "    </tr>\n",
       "    <tr>\n",
       "      <th>248</th>\n",
       "      <td>Jules Dassin (dir.)</td>\n",
       "      <td>Jean Servais</td>\n",
       "      <td>Carl Möhner</td>\n",
       "    </tr>\n",
       "    <tr>\n",
       "      <th>249</th>\n",
       "      <td>Kevin Costner (dir.)</td>\n",
       "      <td>Kevin Costner</td>\n",
       "      <td>Mary McDonnell</td>\n",
       "    </tr>\n",
       "  </tbody>\n",
       "</table>\n",
       "<p>250 rows × 3 columns</p>\n",
       "</div>"
      ],
      "text/plain": [
       "                        Director            Star1            Star2\n",
       "0          Frank Darabont (dir.)      Tim Robbins   Morgan Freeman\n",
       "1    Francis Ford Coppola (dir.)    Marlon Brando        Al Pacino\n",
       "2       Christopher Nolan (dir.)   Christian Bale     Heath Ledger\n",
       "3    Francis Ford Coppola (dir.)        Al Pacino   Robert De Niro\n",
       "4            Sidney Lumet (dir.)      Henry Fonda      Lee J. Cobb\n",
       "..                           ...              ...              ...\n",
       "245          Ron Clements (dir.)    Scott Weinger   Robin Williams\n",
       "246           Tate Taylor (dir.)       Emma Stone      Viola Davis\n",
       "247        Gary Trousdale (dir.)     Paige O'Hara     Robby Benson\n",
       "248          Jules Dassin (dir.)     Jean Servais      Carl Möhner\n",
       "249         Kevin Costner (dir.)    Kevin Costner   Mary McDonnell\n",
       "\n",
       "[250 rows x 3 columns]"
      ]
     },
     "execution_count": 58,
     "metadata": {},
     "output_type": "execute_result"
    }
   ],
   "source": [
    "df_movie_list2=pd.DataFrame(movie_list2, columns=[\"Director\", \"Star1\", \"Star2\"])\n",
    "df_movie_list2"
   ]
  },
  {
   "cell_type": "code",
   "execution_count": 59,
   "metadata": {},
   "outputs": [
    {
     "data": {
      "text/html": [
       "<div>\n",
       "<style scoped>\n",
       "    .dataframe tbody tr th:only-of-type {\n",
       "        vertical-align: middle;\n",
       "    }\n",
       "\n",
       "    .dataframe tbody tr th {\n",
       "        vertical-align: top;\n",
       "    }\n",
       "\n",
       "    .dataframe thead th {\n",
       "        text-align: right;\n",
       "    }\n",
       "</style>\n",
       "<table border=\"1\" class=\"dataframe\">\n",
       "  <thead>\n",
       "    <tr style=\"text-align: right;\">\n",
       "      <th></th>\n",
       "      <th>Director</th>\n",
       "      <th>Star1</th>\n",
       "      <th>Star2</th>\n",
       "      <th>Title</th>\n",
       "    </tr>\n",
       "  </thead>\n",
       "  <tbody>\n",
       "    <tr>\n",
       "      <th>0</th>\n",
       "      <td>Frank Darabont (dir.)</td>\n",
       "      <td>Tim Robbins</td>\n",
       "      <td>Morgan Freeman</td>\n",
       "      <td>Os Condenados de Shawshank (1994)</td>\n",
       "    </tr>\n",
       "    <tr>\n",
       "      <th>1</th>\n",
       "      <td>Francis Ford Coppola (dir.)</td>\n",
       "      <td>Marlon Brando</td>\n",
       "      <td>Al Pacino</td>\n",
       "      <td>O Padrinho (1972)</td>\n",
       "    </tr>\n",
       "    <tr>\n",
       "      <th>2</th>\n",
       "      <td>Christopher Nolan (dir.)</td>\n",
       "      <td>Christian Bale</td>\n",
       "      <td>Heath Ledger</td>\n",
       "      <td>O Cavaleiro das Trevas (2008)</td>\n",
       "    </tr>\n",
       "    <tr>\n",
       "      <th>3</th>\n",
       "      <td>Francis Ford Coppola (dir.)</td>\n",
       "      <td>Al Pacino</td>\n",
       "      <td>Robert De Niro</td>\n",
       "      <td>O Padrinho: Parte II (1974)</td>\n",
       "    </tr>\n",
       "    <tr>\n",
       "      <th>4</th>\n",
       "      <td>Sidney Lumet (dir.)</td>\n",
       "      <td>Henry Fonda</td>\n",
       "      <td>Lee J. Cobb</td>\n",
       "      <td>Doze Homens em Fúria (1957)</td>\n",
       "    </tr>\n",
       "    <tr>\n",
       "      <th>...</th>\n",
       "      <td>...</td>\n",
       "      <td>...</td>\n",
       "      <td>...</td>\n",
       "      <td>...</td>\n",
       "    </tr>\n",
       "    <tr>\n",
       "      <th>245</th>\n",
       "      <td>Ron Clements (dir.)</td>\n",
       "      <td>Scott Weinger</td>\n",
       "      <td>Robin Williams</td>\n",
       "      <td>Aladdin (1992)</td>\n",
       "    </tr>\n",
       "    <tr>\n",
       "      <th>246</th>\n",
       "      <td>Tate Taylor (dir.)</td>\n",
       "      <td>Emma Stone</td>\n",
       "      <td>Viola Davis</td>\n",
       "      <td>As Serviçais (2011)</td>\n",
       "    </tr>\n",
       "    <tr>\n",
       "      <th>247</th>\n",
       "      <td>Gary Trousdale (dir.)</td>\n",
       "      <td>Paige O'Hara</td>\n",
       "      <td>Robby Benson</td>\n",
       "      <td>A Bela e o Monstro (1991)</td>\n",
       "    </tr>\n",
       "    <tr>\n",
       "      <th>248</th>\n",
       "      <td>Jules Dassin (dir.)</td>\n",
       "      <td>Jean Servais</td>\n",
       "      <td>Carl Möhner</td>\n",
       "      <td>Rififi (1955)</td>\n",
       "    </tr>\n",
       "    <tr>\n",
       "      <th>249</th>\n",
       "      <td>Kevin Costner (dir.)</td>\n",
       "      <td>Kevin Costner</td>\n",
       "      <td>Mary McDonnell</td>\n",
       "      <td>Danças com Lobos (1990)</td>\n",
       "    </tr>\n",
       "  </tbody>\n",
       "</table>\n",
       "<p>250 rows × 4 columns</p>\n",
       "</div>"
      ],
      "text/plain": [
       "                        Director            Star1            Star2  \\\n",
       "0          Frank Darabont (dir.)      Tim Robbins   Morgan Freeman   \n",
       "1    Francis Ford Coppola (dir.)    Marlon Brando        Al Pacino   \n",
       "2       Christopher Nolan (dir.)   Christian Bale     Heath Ledger   \n",
       "3    Francis Ford Coppola (dir.)        Al Pacino   Robert De Niro   \n",
       "4            Sidney Lumet (dir.)      Henry Fonda      Lee J. Cobb   \n",
       "..                           ...              ...              ...   \n",
       "245          Ron Clements (dir.)    Scott Weinger   Robin Williams   \n",
       "246           Tate Taylor (dir.)       Emma Stone      Viola Davis   \n",
       "247        Gary Trousdale (dir.)     Paige O'Hara     Robby Benson   \n",
       "248          Jules Dassin (dir.)     Jean Servais      Carl Möhner   \n",
       "249         Kevin Costner (dir.)    Kevin Costner   Mary McDonnell   \n",
       "\n",
       "                                 Title  \n",
       "0    Os Condenados de Shawshank (1994)  \n",
       "1                    O Padrinho (1972)  \n",
       "2        O Cavaleiro das Trevas (2008)  \n",
       "3          O Padrinho: Parte II (1974)  \n",
       "4          Doze Homens em Fúria (1957)  \n",
       "..                                 ...  \n",
       "245                     Aladdin (1992)  \n",
       "246                As Serviçais (2011)  \n",
       "247          A Bela e o Monstro (1991)  \n",
       "248                      Rififi (1955)  \n",
       "249            Danças com Lobos (1990)  \n",
       "\n",
       "[250 rows x 4 columns]"
      ]
     },
     "execution_count": 59,
     "metadata": {},
     "output_type": "execute_result"
    }
   ],
   "source": [
    "df_movie_list2['Title'] = df_movies_list\n",
    "df_movie_list2"
   ]
  },
  {
   "cell_type": "markdown",
   "metadata": {},
   "source": [
    "#### 3.1. Display the movie name, year and a brief summary of the top 10 random movies (IMDB) as a pandas dataframe."
   ]
  },
  {
   "cell_type": "code",
   "execution_count": 42,
   "metadata": {},
   "outputs": [],
   "source": [
    "#This is the url you will scrape in this exercise\n",
    "url = 'https://www.imdb.com/list/ls009796553/'"
   ]
  },
  {
   "cell_type": "code",
   "execution_count": 43,
   "metadata": {},
   "outputs": [],
   "source": [
    "#the link directs me to the same page as webscrapped above..."
   ]
  },
  {
   "cell_type": "markdown",
   "metadata": {},
   "source": [
    "## Bonus"
   ]
  },
  {
   "cell_type": "markdown",
   "metadata": {},
   "source": [
    "#### Find the live weather report (temperature, wind speed, description and weather) of a given city."
   ]
  },
  {
   "cell_type": "code",
   "execution_count": 44,
   "metadata": {},
   "outputs": [],
   "source": [
    "#https://openweathermap.org/current\n",
    "city = input('Enter the city: ')\n",
    "url = 'http://api.openweathermap.org/data/2.5/weather?'+'q='+city+'&APPID=b35975e18dc93725acb092f7272cc6b8&units=metric'"
   ]
  },
  {
   "cell_type": "code",
   "execution_count": 45,
   "metadata": {},
   "outputs": [],
   "source": [
    "# your code here"
   ]
  },
  {
   "cell_type": "markdown",
   "metadata": {},
   "source": [
    "#### Find the book name, price and stock availability as a pandas dataframe."
   ]
  },
  {
   "cell_type": "code",
   "execution_count": 46,
   "metadata": {},
   "outputs": [],
   "source": [
    "# This is the url you will scrape in this exercise. \n",
    "# It is a fictional bookstore created to be scraped. \n",
    "url = 'http://books.toscrape.com/'"
   ]
  },
  {
   "cell_type": "code",
   "execution_count": 47,
   "metadata": {},
   "outputs": [],
   "source": [
    "#tag=img or tag h3 get title\n",
    "#class=\"thumbnail\" --> name\n",
    "#tag=div\n",
    "#class-\"product price\"\n",
    "\n",
    "response=requests.get(url)\n",
    "response.status_code\n",
    "\n",
    "soup=BeautifulSoup(response.content)"
   ]
  },
  {
   "cell_type": "code",
   "execution_count": 48,
   "metadata": {},
   "outputs": [
    {
     "data": {
      "text/plain": [
       "'A Light in the Attic'"
      ]
     },
     "execution_count": 48,
     "metadata": {},
     "output_type": "execute_result"
    }
   ],
   "source": [
    "name=soup.find_all('img', attrs={\"class\":\"thumbnail\"})\n",
    "name[0].get('alt')"
   ]
  },
  {
   "cell_type": "code",
   "execution_count": 49,
   "metadata": {},
   "outputs": [
    {
     "data": {
      "text/plain": [
       "'£51.77'"
      ]
     },
     "execution_count": 49,
     "metadata": {},
     "output_type": "execute_result"
    }
   ],
   "source": [
    "price=soup.find_all('p', attrs={'class':'price_color'})\n",
    "price[0].text"
   ]
  },
  {
   "cell_type": "code",
   "execution_count": 50,
   "metadata": {},
   "outputs": [
    {
     "data": {
      "text/plain": [
       "'In stock'"
      ]
     },
     "execution_count": 50,
     "metadata": {},
     "output_type": "execute_result"
    }
   ],
   "source": [
    "instock=soup.find_all('p', attrs={'class':'instock availability'})\n",
    "x=instock[0].text.replace('\\n','')\n",
    "x.strip()"
   ]
  },
  {
   "cell_type": "code",
   "execution_count": 51,
   "metadata": {},
   "outputs": [],
   "source": [
    "#looping everything and bringing it together :) \n",
    "\n",
    "name_list=[]\n",
    "price_list=[]\n",
    "instock_list=[]\n",
    "\n",
    "for element in name:\n",
    "    x=element.get('alt')\n",
    "    name_list.append(x)\n",
    "\n",
    "\n",
    "for element in price:\n",
    "    x=element.text\n",
    "    price_list.append(x)\n",
    "\n",
    "\n",
    "for element in instock: \n",
    "    x=element.text.replace('\\n','').strip()\n",
    "    instock_list.append(x)\n"
   ]
  },
  {
   "cell_type": "code",
   "execution_count": 52,
   "metadata": {},
   "outputs": [
    {
     "data": {
      "text/html": [
       "<div>\n",
       "<style scoped>\n",
       "    .dataframe tbody tr th:only-of-type {\n",
       "        vertical-align: middle;\n",
       "    }\n",
       "\n",
       "    .dataframe tbody tr th {\n",
       "        vertical-align: top;\n",
       "    }\n",
       "\n",
       "    .dataframe thead th {\n",
       "        text-align: right;\n",
       "    }\n",
       "</style>\n",
       "<table border=\"1\" class=\"dataframe\">\n",
       "  <thead>\n",
       "    <tr style=\"text-align: right;\">\n",
       "      <th></th>\n",
       "      <th>title</th>\n",
       "      <th>price</th>\n",
       "      <th>availability</th>\n",
       "    </tr>\n",
       "  </thead>\n",
       "  <tbody>\n",
       "    <tr>\n",
       "      <th>0</th>\n",
       "      <td>A Light in the Attic</td>\n",
       "      <td>£51.77</td>\n",
       "      <td>In stock</td>\n",
       "    </tr>\n",
       "    <tr>\n",
       "      <th>1</th>\n",
       "      <td>Tipping the Velvet</td>\n",
       "      <td>£53.74</td>\n",
       "      <td>In stock</td>\n",
       "    </tr>\n",
       "    <tr>\n",
       "      <th>2</th>\n",
       "      <td>Soumission</td>\n",
       "      <td>£50.10</td>\n",
       "      <td>In stock</td>\n",
       "    </tr>\n",
       "    <tr>\n",
       "      <th>3</th>\n",
       "      <td>Sharp Objects</td>\n",
       "      <td>£47.82</td>\n",
       "      <td>In stock</td>\n",
       "    </tr>\n",
       "    <tr>\n",
       "      <th>4</th>\n",
       "      <td>Sapiens: A Brief History of Humankind</td>\n",
       "      <td>£54.23</td>\n",
       "      <td>In stock</td>\n",
       "    </tr>\n",
       "    <tr>\n",
       "      <th>5</th>\n",
       "      <td>The Requiem Red</td>\n",
       "      <td>£22.65</td>\n",
       "      <td>In stock</td>\n",
       "    </tr>\n",
       "    <tr>\n",
       "      <th>6</th>\n",
       "      <td>The Dirty Little Secrets of Getting Your Dream...</td>\n",
       "      <td>£33.34</td>\n",
       "      <td>In stock</td>\n",
       "    </tr>\n",
       "    <tr>\n",
       "      <th>7</th>\n",
       "      <td>The Coming Woman: A Novel Based on the Life of...</td>\n",
       "      <td>£17.93</td>\n",
       "      <td>In stock</td>\n",
       "    </tr>\n",
       "    <tr>\n",
       "      <th>8</th>\n",
       "      <td>The Boys in the Boat: Nine Americans and Their...</td>\n",
       "      <td>£22.60</td>\n",
       "      <td>In stock</td>\n",
       "    </tr>\n",
       "    <tr>\n",
       "      <th>9</th>\n",
       "      <td>The Black Maria</td>\n",
       "      <td>£52.15</td>\n",
       "      <td>In stock</td>\n",
       "    </tr>\n",
       "    <tr>\n",
       "      <th>10</th>\n",
       "      <td>Starving Hearts (Triangular Trade Trilogy, #1)</td>\n",
       "      <td>£13.99</td>\n",
       "      <td>In stock</td>\n",
       "    </tr>\n",
       "    <tr>\n",
       "      <th>11</th>\n",
       "      <td>Shakespeare's Sonnets</td>\n",
       "      <td>£20.66</td>\n",
       "      <td>In stock</td>\n",
       "    </tr>\n",
       "    <tr>\n",
       "      <th>12</th>\n",
       "      <td>Set Me Free</td>\n",
       "      <td>£17.46</td>\n",
       "      <td>In stock</td>\n",
       "    </tr>\n",
       "    <tr>\n",
       "      <th>13</th>\n",
       "      <td>Scott Pilgrim's Precious Little Life (Scott Pi...</td>\n",
       "      <td>£52.29</td>\n",
       "      <td>In stock</td>\n",
       "    </tr>\n",
       "    <tr>\n",
       "      <th>14</th>\n",
       "      <td>Rip it Up and Start Again</td>\n",
       "      <td>£35.02</td>\n",
       "      <td>In stock</td>\n",
       "    </tr>\n",
       "    <tr>\n",
       "      <th>15</th>\n",
       "      <td>Our Band Could Be Your Life: Scenes from the A...</td>\n",
       "      <td>£57.25</td>\n",
       "      <td>In stock</td>\n",
       "    </tr>\n",
       "    <tr>\n",
       "      <th>16</th>\n",
       "      <td>Olio</td>\n",
       "      <td>£23.88</td>\n",
       "      <td>In stock</td>\n",
       "    </tr>\n",
       "    <tr>\n",
       "      <th>17</th>\n",
       "      <td>Mesaerion: The Best Science Fiction Stories 18...</td>\n",
       "      <td>£37.59</td>\n",
       "      <td>In stock</td>\n",
       "    </tr>\n",
       "    <tr>\n",
       "      <th>18</th>\n",
       "      <td>Libertarianism for Beginners</td>\n",
       "      <td>£51.33</td>\n",
       "      <td>In stock</td>\n",
       "    </tr>\n",
       "    <tr>\n",
       "      <th>19</th>\n",
       "      <td>It's Only the Himalayas</td>\n",
       "      <td>£45.17</td>\n",
       "      <td>In stock</td>\n",
       "    </tr>\n",
       "  </tbody>\n",
       "</table>\n",
       "</div>"
      ],
      "text/plain": [
       "                                                title   price availability\n",
       "0                                A Light in the Attic  £51.77     In stock\n",
       "1                                  Tipping the Velvet  £53.74     In stock\n",
       "2                                          Soumission  £50.10     In stock\n",
       "3                                       Sharp Objects  £47.82     In stock\n",
       "4               Sapiens: A Brief History of Humankind  £54.23     In stock\n",
       "5                                     The Requiem Red  £22.65     In stock\n",
       "6   The Dirty Little Secrets of Getting Your Dream...  £33.34     In stock\n",
       "7   The Coming Woman: A Novel Based on the Life of...  £17.93     In stock\n",
       "8   The Boys in the Boat: Nine Americans and Their...  £22.60     In stock\n",
       "9                                     The Black Maria  £52.15     In stock\n",
       "10     Starving Hearts (Triangular Trade Trilogy, #1)  £13.99     In stock\n",
       "11                              Shakespeare's Sonnets  £20.66     In stock\n",
       "12                                        Set Me Free  £17.46     In stock\n",
       "13  Scott Pilgrim's Precious Little Life (Scott Pi...  £52.29     In stock\n",
       "14                          Rip it Up and Start Again  £35.02     In stock\n",
       "15  Our Band Could Be Your Life: Scenes from the A...  £57.25     In stock\n",
       "16                                               Olio  £23.88     In stock\n",
       "17  Mesaerion: The Best Science Fiction Stories 18...  £37.59     In stock\n",
       "18                       Libertarianism for Beginners  £51.33     In stock\n",
       "19                            It's Only the Himalayas  £45.17     In stock"
      ]
     },
     "execution_count": 52,
     "metadata": {},
     "output_type": "execute_result"
    }
   ],
   "source": [
    "#zip all lists\n",
    "\n",
    "zipall = zip(name_list, price_list, instock_list)\n",
    "data=list(zipall)\n",
    "\n",
    "book_df=pd.DataFrame(data, columns=['title', 'price', 'availability'])\n",
    "book_df"
   ]
  },
  {
   "cell_type": "markdown",
   "metadata": {},
   "source": [
    "####  Display the 100 latest earthquakes info (date, time, latitude, longitude and region name) by the EMSC as a pandas dataframe.\n",
    "***Hint:*** Here the displayed number of earthquakes per page is 20, but you can easily move to the next page by looping through the desired number of pages and adding it to the end of the url."
   ]
  },
  {
   "cell_type": "code",
   "execution_count": 53,
   "metadata": {},
   "outputs": [
    {
     "data": {
      "text/plain": [
       "['https://www.emsc-csem.org/Earthquake/?view=1',\n",
       " 'https://www.emsc-csem.org/Earthquake/?view=2',\n",
       " 'https://www.emsc-csem.org/Earthquake/?view=3',\n",
       " 'https://www.emsc-csem.org/Earthquake/?view=4',\n",
       " 'https://www.emsc-csem.org/Earthquake/?view=5']"
      ]
     },
     "execution_count": 53,
     "metadata": {},
     "output_type": "execute_result"
    }
   ],
   "source": [
    "# This is the url you will scrape in this exercise\n",
    "url = 'https://www.emsc-csem.org/Earthquake/?view='\n",
    "\n",
    "# This is how you will loop through each page:\n",
    "number_of_pages = int(100/20)\n",
    "each_page_urls = []\n",
    "\n",
    "for n in range(1, number_of_pages+1):\n",
    "    link = url+str(n)\n",
    "    each_page_urls.append(link)\n",
    "    \n",
    "each_page_urls"
   ]
  },
  {
   "cell_type": "code",
   "execution_count": 54,
   "metadata": {},
   "outputs": [],
   "source": [
    "# your code here"
   ]
  }
 ],
 "metadata": {
  "kernelspec": {
   "display_name": "Python 3",
   "language": "python",
   "name": "python3"
  },
  "language_info": {
   "codemirror_mode": {
    "name": "ipython",
    "version": 3
   },
   "file_extension": ".py",
   "mimetype": "text/x-python",
   "name": "python",
   "nbconvert_exporter": "python",
   "pygments_lexer": "ipython3",
   "version": "3.10.4"
  }
 },
 "nbformat": 4,
 "nbformat_minor": 2
}
